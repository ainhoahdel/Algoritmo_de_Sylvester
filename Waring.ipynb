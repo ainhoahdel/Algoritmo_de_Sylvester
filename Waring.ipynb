{
 "cells": [
  {
   "cell_type": "markdown",
   "metadata": {
    "collapsed": false
   },
   "source": [
    "última actualización: 11.05.2024\n",
    "\n",
    "//////////////////////////////////////////////////////////////////////\n",
    "\n",
    "categoría = \"Algebra conmutativa\"\n",
    "\n",
    "info=\"AUTOR: Ainhoa Hernández Delgado [ainhoahdezdelgado@gmail.com](mailto:ainhoahdezdelgado@gmail.com)\n",
    "\n",
    "DESCRIPCION: Un algoritmo que calcula el rango de Waring para cualquier forma homogénea y una descomposición de Waring para los casos más sencillos haciendo uso de polinomios apolares y del ideal anulador. El proceso se basa en el trabajo de fin de grado: \"El problema de Waring para enteros y polinomios\" por Ainhoa Hernández Delgado.\n",
    "\n",
    "PROCEDIMIENTOS:\n",
    "\n",
    "Calc\\_coef\\(pol\\): Obtiene los coeficientes de un polinomio en un anillo con coeficientes simbólicos y los convierte en una lista útil en otros anillos de polinomios.\n",
    "\n",
    "Descomp\\(pol,d,coef\\_og\\); Calcula la descomposición de un polinomio dado su grado, coeficientes y un polinomio apolar al mismo.\n",
    "\n",
    "Limpiar\\(K,raiz\\); Toma una lista y una matriz de complejos y elimina los errores de aproximación cometidos en sus valores, considerando como tal todo número \\(o su parte real o compleja\\) con valor absoluto inferior a 1e\\-10.\n",
    "\n",
    "Waring\\(f\\): Toma un polinomio homogéneo de grado d y devuelve su rango de Waring y, si es posible, una descomposición minimal como suma de potencias d\\-ésimas de formas lineales.\"\n",
    "\n"
   ]
  },
  {
   "cell_type": "code",
   "execution_count": 4,
   "metadata": {
    "collapsed": false
   },
   "outputs": [
   ],
   "source": [
    "def Calc_coef(pol,d):\n",
    "    '''USO:   DCalc_coef(pol); pol es un polinomio en dos variables con coeficientes complejos.\n",
    "    DEVUELVE: Una lista con los coeficientes de pol, de tal forma que el coeficiente de x^iy^d-i se corresponde con coef_og[i].\n",
    "    ASUME:  pol es un polinomio homogéneo.\n",
    "    '''\n",
    "    R.<x,y> = PolynomialRing(SR,2)\n",
    "    coef_og=[]\n",
    "    for i in range(0,d+1):\n",
    "        coef_og.append(pol.coefficient({x: i,y:d-i}))\n",
    "    return coef_og"
   ]
  },
  {
   "cell_type": "code",
   "execution_count": 5,
   "metadata": {
    "collapsed": false
   },
   "outputs": [
   ],
   "source": [
    "def Descomp(pol,d,coef_og):\n",
    "    '''\n",
    "    USO:   Descomp(pol,d,coef_og); pol es un polinomio en dos variables con coeficientes complejos, d es un entero positivo y coef_og es una       lista de números complejos.\n",
    "    DEVUELVE: Un string con una descomposición minimal de Waring si ha sido capaz de calcularla y un string con la frase [NO SE ENCUENTRA           DISPONIBLE] en caso contrario.\n",
    "    ASUME:  pol es un polinomio apolar al polinomio homogéneo de grado d y con coeficientes en la lista coef_og, de tal forma que el               coeficiente de x^iy^d-i se corresponde con coef_og[i].\n",
    "    '''\n",
    "    W=pol.degree()\n",
    "    x=var('x')\n",
    "    raiz=solve(SR(pol.subs(y=1)),x) #Obtenemos las raíces de phi\n",
    "    if any(raiz[i].lhs()==0 for i in range(len(raiz))):\n",
    "        desc='[NO SE ENCUENTRA DISPONIBLE]'\n",
    "    else:\n",
    "        C = Matrix(SR,d+1,d+1) #Creamos la matriz para hallar las constantes completando con la identidad\n",
    "        D = Matrix(SR,d+1,1) #Creamos el vector para resolver el sistema Cx=D de constantes\n",
    "        if pol.coefficient({x: W,y:0})!=0: #Separamos los casos en los que la forma de Waring tiene x^d\n",
    "            for j in range(0,W):\n",
    "                for i in range(0,d+1):\n",
    "                    C[i,j]=(raiz[j].rhs()^i).n()\n",
    "            for j in range(W,d+1):\n",
    "                if any(abs(r.rhs().n())<0.0001 for r in raiz): #Para completar con la Id vemos cuando el 0 es raíz y aparece el vector canónico\n",
    "                    for i in range(0,d+1):\n",
    "                        if j-i==W-1:\n",
    "                            C[i,j]=1\n",
    "                else:\n",
    "                    for i in range(0,d+1):\n",
    "                        if j-i==W:\n",
    "                            C[i,j]=1\n",
    "            for i in range(0,d+1):\n",
    "                D[i,0]=coef_og[i]/binomial(d,i) #Nótese que coef_og[i] se corresponde con el coef de x^i*y^(d-i) y (d i)=(d d-i)\n",
    "            K=C.inverse()*D #Las primeras constantes de este vector son las que nos interesan\n",
    "            K,raiz=Limpiar(K,raiz)\n",
    "            desc='('+str(K[0,0])+')*(('+str(raiz[0])+')*x+y)^'+str(d)\n",
    "            for i in range(1,len(raiz)):\n",
    "                desc=desc+'+('+str(K[i,0])+')*(('+str(raiz[i])+')*x+y)^'+str(d)\n",
    "        else:\n",
    "            for j in range(0,W-1):\n",
    "                for i in range(0,d+1):\n",
    "                    C[i,j]=(raiz[j].rhs()^i).n()\n",
    "            for j in range(W-1,d+1):\n",
    "                for i in range(0,d+1):\n",
    "                    if j-i==W-1:\n",
    "                        C[d-i,j]=1\n",
    "            for i in range(0,d+1):\n",
    "                D[i,0]=coef_og[i]/binomial(d,i) #Nótese que coef_og[i] se corresponde con el coef de x^i*y^(d-i) y (d i)=(d d-i)\n",
    "            K=C.inverse()*D #Las primeras constantes de este vector son las que nos interesan\n",
    "            K,raiz=Limpiar(K,raiz)\n",
    "            desc='('+str(K[len(raiz),0].n())+')*(x+0*y)^'+str(d)\n",
    "            for i in range(0,len(raiz)):\n",
    "                desc=desc+'+('+str(K[i,0])+')*(('+str(raiz[i])+')*x+y)^'+str(d)\n",
    "    return desc"
   ]
  },
  {
   "cell_type": "code",
   "execution_count": 6,
   "metadata": {
    "collapsed": false
   },
   "outputs": [
   ],
   "source": [
    "def Limpiar(K,raiz):\n",
    "    '''\n",
    "    USO:  Limpiar(K,raiz); K es una matriz de complejos y raiz una lista de complejos.\n",
    "    DEVUELVE: Una matriz y una lista de complejos en las que se han eliminado los números (o sus partes real o imaginaria) con valor absoluto       inferior a 1e-10.\n",
    "    ASUME: K tiene al menos len(raiz) filas.\n",
    "    '''\n",
    "    K2=Matrix(SR,len(raiz)+1,1)\n",
    "    raiz2=vector(SR,len(raiz))\n",
    "    for i in range(0,len(raiz)):\n",
    "        if K[i,0].real().abs()<1e-10:\n",
    "            K2[i,0]=K[i,0].imag().n()*I\n",
    "        elif K[i,0].imag().abs()<1e-10:\n",
    "            K2[i,0]=K[i,0].real().n()\n",
    "        else:\n",
    "            K2[i,0]=K[i,0].n()\n",
    "        if raiz[i].rhs().n().abs()<1e-10:\n",
    "            raiz2[i]=0\n",
    "        elif raiz[i].rhs().n().real().abs()<1e-10:\n",
    "            raiz2[i]=raiz[i].rhs().n().imag()*I\n",
    "        elif raiz[i].rhs().n().imag().abs()<1e-10:\n",
    "            raiz2[i]=raiz[i].rhs().n().real()\n",
    "        else:\n",
    "            raiz2[i]=raiz[i].rhs().n()\n",
    "    j=len(raiz)\n",
    "    if K[j,0].real().abs()<1e-10:\n",
    "        K2[j,0]=K[j,0].imag().n()*I\n",
    "    elif K[j,0].imag().abs()<1e-10:\n",
    "        K2[j,0]=K[j,0].real().n()\n",
    "    else:\n",
    "        K2[j,0]=K[j,0].n()\n",
    "    return K2,raiz2"
   ]
  },
  {
   "cell_type": "code",
   "execution_count": 11,
   "metadata": {
    "collapsed": false
   },
   "outputs": [
   ],
   "source": [
    "def Waring(f):\n",
    "    '''\n",
    "    USO:  Waring(f); f es un polinomio en dos variables con coeficientes complejos.\n",
    "    DEVUELVE: Un mensaje por pantalla en el que se declara el rango de Waring, una descomposición minimal para f si fue posible calcularla e       información sobre las raíces del polinomio apolar que se ha utilizado para el cálculo de la descomposición.\n",
    "    ASUME: f es un polinomio homogéneo.\n",
    "    '''\n",
    "    R.<x, y> = PolynomialRing(CC, 2)\n",
    "    'Sacamos los coeficientes de f en función de la base B_d,i'\n",
    "    d=f.degree()\n",
    "    coef_og=Calc_coef(f,d)\n",
    "    coef=[]\n",
    "    for i in range(0,d+1):\n",
    "        coef.append(coef_og[i]*factorial(i)*factorial(d-i))\n",
    "    'Hallamos la matriz A_u de menor dimensión cuyo rango no sea máximo'\n",
    "    u=0\n",
    "    rango=1\n",
    "    while rango==u+1:\n",
    "        u=u+1\n",
    "        A = Matrix(SR,d-u+1,u+1)\n",
    "        for i in range(0,d-u+1):\n",
    "            for j in range(0,u+1):\n",
    "                A[i,j]=coef[i+j]\n",
    "        rango=A.rank()\n",
    "    'Resolvemos el sistema AX=0 para obtener los coeficentes de phi y construimos phi'\n",
    "    X=vector([var(\"a_{}\".format(i)) for i in (0..u)])\n",
    "    B=A*X\n",
    "    system = [eq == 0 for eq in B]\n",
    "    sol=solve(system,[var(\"a_{}\".format(i)) for i in (0..u)])\n",
    "    if A.rank()==u:\n",
    "        for i in range(0,len(sol[0])): #Evaluamos los parametros libres\n",
    "            sol[0][i]=sol[0][i].subs({j: 1 for j in sol[0][i].rhs().variables()})\n",
    "    else:\n",
    "        v=[]\n",
    "        i=-1\n",
    "        while v==[]:\n",
    "            i=i+1\n",
    "            v.append(sol[0][i].rhs().variables()[0])\n",
    "        for i in range(0,len(sol[0])): #Evaluamos los parametros libres\n",
    "            while sol[0][i].rhs().variables()!=():\n",
    "                if sol[0][i].rhs().variables()[0]==v[0]:\n",
    "                    sol[0][i]=sol[0][i].subs({sol[0][i].rhs().variables()[0]:1})\n",
    "                else:\n",
    "                    sol[0][i]=sol[0][i].subs({sol[0][i].rhs().variables()[0]:0})\n",
    "    phi=0\n",
    "    for i in range(0,len(sol[0])):\n",
    "        phi=phi+QQbar(sol[0][i].rhs())*x^i*y^(u-i)\n",
    "    'Comprobamos si phi es libre de cuadrados'\n",
    "    if gcd(phi.subs(y=1),phi.subs(y=1).derivative(x))==1 and (sol[0][u].rhs()!=0 or sol[0][u-1].rhs()!=0):\n",
    "        W=u\n",
    "        desc=Descomp(phi,d,coef_og)\n",
    "        print('Phi no tiene factores múltiples, el rango de Waring es '+str(W)+' y la descomposición es '+desc)\n",
    "    else:\n",
    "        W=d+2-u\n",
    "        if A.rank()==u:\n",
    "            A2 = Matrix(SR,d-W+1,W+1)\n",
    "            for i in range(0,d-W+1):\n",
    "                for j in range(0,W+1):\n",
    "                    A2[i,j]=coef[i+j]\n",
    "            X2=vector([var(\"a_{}\".format(i)) for i in (0..W)])\n",
    "            B2=A2*X2\n",
    "            system2 = [eq == 0 for eq in B2]\n",
    "            sol2=solve(system2,[var(\"a_{}\".format(i)) for i in (0..W)])\n",
    "            for i in range(0,len(sol2[0])): #Evaluamos los parametros libres\n",
    "                sol2[0][i]=sol2[0][i].subs({j: 1 for j in sol2[0][i].rhs().variables()})\n",
    "            psi=0\n",
    "            for i in range(0,len(sol2[0])):\n",
    "                psi=psi+QQbar(sol2[0][i].rhs())*x^i*y^(W-i)\n",
    "        else:\n",
    "            sol2=solve(system,[var(\"a_{}\".format(i)) for i in (0..u)])\n",
    "            v2=[]\n",
    "            i=-1\n",
    "            while v2==[]:\n",
    "                i=i+1\n",
    "                v2.append(sol2[0][i].rhs().variables()[0])\n",
    "            for i in range(0,len(sol2[0])): #Evaluamos los parametros libres\n",
    "                while sol2[0][i].rhs().variables()!=():\n",
    "                    if sol2[0][i].rhs().variables()[0]==v2[0]:\n",
    "                        sol2[0][i]=sol2[0][i].subs({sol2[0][i].rhs().variables()[0]:0})\n",
    "                    else:\n",
    "                        sol2[0][i]=sol2[0][i].subs({sol2[0][i].rhs().variables()[0]:1})\n",
    "            psi=0\n",
    "            for i in range(0,len(sol2[0])):\n",
    "                psi=psi+QQbar(sol2[0][i].rhs())*x^i*y^(W-i)\n",
    "        if gcd(psi.subs(y=1),psi.subs(y=1).derivative(x))==1 and (sol2[0][W].rhs()!=0 or sol2[0][W-1].rhs()!=0):\n",
    "            desc=Descomp(psi,d,coef_og)\n",
    "            print('Phi tiene factores múltiples, el rango de Waring es '+str(W)+' y la descomposición es '+desc)\n",
    "        else:\n",
    "            a=0\n",
    "            pol=phi+a*y^(psi.degree()-phi.degree())*psi\n",
    "            while gcd(pol.subs(y=1),pol.subs(y=1).derivative(x))!=1 or (pol.coefficient({x:W,y:0})==0 and pol.coefficient({x:W-1,y:1})==0):\n",
    "                a=a+1\n",
    "                pol=phi+a*y^(psi.degree()-phi.degree())*psi\n",
    "            desc=Descomp(pol,d,coef_og)\n",
    "            print('Phi y psi tienen factores múltiples, utilizamos el polinomio dado por phi+'+str(a)+'y^'+str(psi.degree()-phi.degree())+'*psi, el rango de Waring es '+str(W)+' y la descomposición es '+desc)"
   ]
  },
  {
   "cell_type": "markdown",
   "metadata": {
    "collapsed": false
   },
   "source": [
    "### Ejemplos de uso.\n",
    "\n"
   ]
  },
  {
   "cell_type": "code",
   "execution_count": 12,
   "metadata": {
    "collapsed": false
   },
   "outputs": [
    {
     "name": "stdout",
     "output_type": "stream",
     "text": [
      "Phi tiene factores múltiples, el rango de Waring es 2 y la descomposición es (-0.250000000000000)*((0)*x+y)^2+(0.250000000000000)*((2.00000000000000)*x+y)^2\n"
     ]
    }
   ],
   "source": [
    "R.<x,y> = PolynomialRing(SR, 2)\n",
    "f = x^2 + x*y\n",
    "Waring(f)"
   ]
  },
  {
   "cell_type": "code",
   "execution_count": 13,
   "metadata": {
    "collapsed": false
   },
   "outputs": [
    {
     "name": "stdout",
     "output_type": "stream",
     "text": [
      "Phi no tiene factores múltiples, el rango de Waring es 2 y la descomposición es (-0.250000000000000)*(x+0*y)^2+(1.00000000000000)*((0.500000000000000)*x+y)^2\n"
     ]
    }
   ],
   "source": [
    "R.<x,y> = PolynomialRing(SR, 2)\n",
    "f = x*y + y^2\n",
    "Waring(f)"
   ]
  },
  {
   "cell_type": "code",
   "execution_count": 14,
   "metadata": {
    "collapsed": false
   },
   "outputs": [
    {
     "name": "stdout",
     "output_type": "stream",
     "text": [
      "Phi y psi tienen factores múltiples, utilizamos el polinomio dado por phi+1y^0*psi, el rango de Waring es 2 y la descomposición es (0.250000000000000*I)*((-1.00000000000000*I)*x+y)^2+(-0.250000000000000*I)*((1.00000000000000*I)*x+y)^2\n"
     ]
    }
   ],
   "source": [
    "R.<x,y> = PolynomialRing(SR, 2)\n",
    "f = x*y\n",
    "Waring(f)"
   ]
  },
  {
   "cell_type": "code",
   "execution_count": 15,
   "metadata": {
    "collapsed": false
   },
   "outputs": [
    {
     "name": "stdout",
     "output_type": "stream",
     "text": [
      "Phi no tiene factores múltiples, el rango de Waring es 2 y la descomposición es (-1.00000000000000)*((-2.00000000000000)*x+y)^3+(-1.00000000000000)*((-1.00000000000000)*x+y)^3\n"
     ]
    }
   ],
   "source": [
    "R.<x, y> = PolynomialRing(SR, 2)\n",
    "f = 9*x^3 + (-15)*x^2*y + 9*x*y^2 + (-2)*y^3\n",
    "Waring(f)"
   ]
  },
  {
   "cell_type": "code",
   "execution_count": 16,
   "metadata": {
    "collapsed": false
   },
   "outputs": [
    {
     "name": "stdout",
     "output_type": "stream",
     "text": [
      "Phi no tiene factores múltiples, el rango de Waring es 3 y la descomposición es (1.00000000000000)*(x+0*y)^5+(1.00000000000000)*((0)*x+y)^5+(1.00000000000000)*((1.00000000000000)*x+y)^5\n"
     ]
    }
   ],
   "source": [
    "R.<x, y> = PolynomialRing(SR, 2)\n",
    "f = 2*x^5 + 5*x^4*y + 10*x^3*y^2 + 10*x^2*y^3 + 5*x*y^4 + 2*y^5\n",
    "Waring(f)"
   ]
  },
  {
   "cell_type": "code",
   "execution_count": 17,
   "metadata": {
    "collapsed": false
   },
   "outputs": [
    {
     "name": "stdout",
     "output_type": "stream",
     "text": [
      "Phi no tiene factores múltiples, el rango de Waring es 3 y la descomposición es (729.000000000000)*((0.333333333333333)*x+y)^6+(0.999999999999996)*((-1.00000000000000)*x+y)^6+(0.999999999999996)*((1.00000000000000)*x+y)^6\n"
     ]
    }
   ],
   "source": [
    "R.<x,y> = PolynomialRing(SR, 2)\n",
    "f = 3*x^6 + 18*x^5*y + 165*x^4*y^2 + 540*x^3*y^3 + 1245*x^2*y^4 + 1458*x*y^5 + 731*y^6\n",
    "Waring(f)"
   ]
  },
  {
   "cell_type": "code",
   "execution_count": 18,
   "metadata": {
    "collapsed": false
   },
   "outputs": [
    {
     "name": "stdout",
     "output_type": "stream",
     "text": [
      "Phi tiene factores múltiples, el rango de Waring es 6 y la descomposición es (0.0321555407294946 + 0.0279468317173761*I)*((-0.727136084491197 - 0.430014288329716*I)*x+y)^6+(0.0321555407294946 - 0.0279468317173761*I)*((-0.727136084491197 + 0.430014288329716*I)*x+y)^6+(-0.0154888740628279 - 0.0114622687183189*I)*((0.727136084491197 - 0.934099289460529*I)*x+y)^6+(-0.0154888740628279 + 0.0114622687183189*I)*((0.727136084491197 + 0.934099289460529*I)*x+y)^6+(-0.0166666666666667 + 0.0333333333333334*I)*((-1.00000000000000*I)*x+y)^6+(-0.0166666666666667 - 0.0333333333333333*I)*((1.00000000000000*I)*x+y)^6\n"
     ]
    }
   ],
   "source": [
    "R.<x, y> = PolynomialRing(SR, 2)\n",
    "f = x^5*y\n",
    "Waring(f)"
   ]
  }
 ],
 "metadata": {
  "kernelspec": {
   "argv": [
    "sage-10.2",
    "--python",
    "-m",
    "sage.repl.ipython_kernel",
    "--matplotlib=inline",
    "-f",
    "{connection_file}"
   ],
   "display_name": "SageMath 10.2",
   "env": {
   },
   "language": "sagemath",
   "metadata": {
    "cocalc": {
     "description": "Open-source mathematical software system",
     "priority": 2,
     "url": "https://www.sagemath.org/"
    }
   },
   "name": "sage-10.2",
   "resource_dir": "/ext/jupyter/kernels/sage-10.2"
  },
  "language_info": {
   "codemirror_mode": {
    "name": "ipython",
    "version": 3
   },
   "file_extension": ".py",
   "mimetype": "text/x-python",
   "name": "python",
   "nbconvert_exporter": "python",
   "pygments_lexer": "ipython3",
   "version": "3.11.1"
  }
 },
 "nbformat": 4,
 "nbformat_minor": 4
}